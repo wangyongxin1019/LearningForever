{
 "cells": [
  {
   "cell_type": "markdown",
   "id": "3641475f-50d1-43e7-8b34-d07c2e3b350a",
   "metadata": {},
   "source": [
    "# ISLRv2_website"
   ]
  },
  {
   "cell_type": "markdown",
   "id": "4abc65ef-515e-4943-bf68-71c27caf2435",
   "metadata": {
    "tags": []
   },
   "source": [
    "## chapter2"
   ]
  },
  {
   "cell_type": "markdown",
   "id": "85c65739-3ef9-4b4a-8a62-68b22c62debf",
   "metadata": {},
   "source": [
    "### Assessing Model Accuracy"
   ]
  },
  {
   "cell_type": "markdown",
   "id": "fb800e1f-404d-41af-ac7e-9512496b6816",
   "metadata": {},
   "source": [
    "#### Measuring the Quality of Fit"
   ]
  },
  {
   "cell_type": "markdown",
   "id": "f9277275-5787-4bb8-a95e-264b1cb5b7a5",
   "metadata": {},
   "source": [
    "In the regression setting, themost commonly-used measure is the mean squared error (MSE)\n",
    "\\begin{equation}\n",
    "M S E=\\frac{1}{n} \\sum_{i=1}^n\\left(y_i-\\hat{f}\\left(x_i\\right)\\right)^2\n",
    "\\end{equation}\n",
    "\\begin{equation}\n",
    "\\text { where } \\hat{f}\\left(x_i\\right) \\text { is the prediction that } \\hat{f} \\text { gives for the } i \\text { th observation. }\n",
    "\\end{equation}"
   ]
  },
  {
   "cell_type": "code",
   "execution_count": 5,
   "id": "4e7bd3b9-89b4-421c-aba1-a9935a2cd702",
   "metadata": {},
   "outputs": [],
   "source": [
    "import torch"
   ]
  },
  {
   "cell_type": "code",
   "execution_count": 6,
   "id": "6ad57bd1-2c7b-43b8-9b18-ed3884ef0885",
   "metadata": {},
   "outputs": [],
   "source": [
    "def mse_loss(input, target, size_average=True, reduce=True):\n",
    "    \"\"\"\n",
    "    mse_loss(input, target, size_average=True, reduce=True) -> Variable\n",
    "    Measures the element-wise mean squared error.\n",
    "    See :class:`~torch.nn.MSELoss` for details.\n",
    "    \"\"\"\n",
    "    return _pointwise_loss(lambda a, b: (a - b) ** 2, torch._C._nn.mse_loss,\n",
    "input, target, size_average, reduce)\n",
    "\n",
    "def own_mse_loss(input, target, size_average=True):\n",
    "    L = (input - target) ** 2\n",
    "    return torch.mean(L) if size_average else torch.sum(L)"
   ]
  },
  {
   "cell_type": "code",
   "execution_count": null,
   "id": "d61f13be-9f68-4858-b020-6a043a2ffd7b",
   "metadata": {},
   "outputs": [],
   "source": []
  }
 ],
 "metadata": {
  "kernelspec": {
   "display_name": "Python 3 (ipykernel)",
   "language": "python",
   "name": "python3"
  },
  "language_info": {
   "codemirror_mode": {
    "name": "ipython",
    "version": 3
   },
   "file_extension": ".py",
   "mimetype": "text/x-python",
   "name": "python",
   "nbconvert_exporter": "python",
   "pygments_lexer": "ipython3",
   "version": "3.9.7"
  }
 },
 "nbformat": 4,
 "nbformat_minor": 5
}
