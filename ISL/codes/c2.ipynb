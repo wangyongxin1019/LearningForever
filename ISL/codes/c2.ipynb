{
 "cells": [
  {
   "cell_type": "markdown",
   "id": "3641475f-50d1-43e7-8b34-d07c2e3b350a",
   "metadata": {},
   "source": [
    "# ISLRv2_website"
   ]
  },
  {
   "cell_type": "markdown",
   "id": "4abc65ef-515e-4943-bf68-71c27caf2435",
   "metadata": {
    "tags": []
   },
   "source": [
    "## chapter2"
   ]
  },
  {
   "cell_type": "markdown",
   "id": "85c65739-3ef9-4b4a-8a62-68b22c62debf",
   "metadata": {},
   "source": [
    "### Assessing Model Accuracy"
   ]
  },
  {
   "cell_type": "markdown",
   "id": "fb800e1f-404d-41af-ac7e-9512496b6816",
   "metadata": {},
   "source": [
    "#### Measuring the Quality of Fit"
   ]
  },
  {
   "cell_type": "markdown",
   "id": "f9277275-5787-4bb8-a95e-264b1cb5b7a5",
   "metadata": {},
   "source": [
    "In the regression setting, themost commonly-used measure is the mean squared error (MSE)\n",
    "\\begin{equation}\n",
    "M S E=\\frac{1}{n} \\sum_{i=1}^n\\left(y_i-\\hat{f}\\left(x_i\\right)\\right)^2\n",
    "\\end{equation}"
   ]
  },
  {
   "cell_type": "code",
   "execution_count": null,
   "id": "4e7bd3b9-89b4-421c-aba1-a9935a2cd702",
   "metadata": {},
   "outputs": [],
   "source": []
  }
 ],
 "metadata": {
  "kernelspec": {
   "display_name": "Python 3 (ipykernel)",
   "language": "python",
   "name": "python3"
  },
  "language_info": {
   "codemirror_mode": {
    "name": "ipython",
    "version": 3
   },
   "file_extension": ".py",
   "mimetype": "text/x-python",
   "name": "python",
   "nbconvert_exporter": "python",
   "pygments_lexer": "ipython3",
   "version": "3.9.7"
  }
 },
 "nbformat": 4,
 "nbformat_minor": 5
}
